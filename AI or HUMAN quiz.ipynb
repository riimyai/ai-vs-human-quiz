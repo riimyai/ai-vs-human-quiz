{
 "cells": [
  {
   "cell_type": "code",
   "execution_count": 1,
   "id": "29adc2c3-1e5a-43fa-bd83-fc87a705b80d",
   "metadata": {},
   "outputs": [],
   "source": [
    "import random\n"
   ]
  },
  {
   "cell_type": "code",
   "execution_count": 17,
   "id": "d2e20401-7f28-4232-9fe0-d8bde9676b16",
   "metadata": {},
   "outputs": [
    {
     "name": "stdout",
     "output_type": "stream",
     "text": [
      "❤️‍🔥Round 1: Is the Image AI or Human?\n",
      " \n",
      " Image name :Sunset_AI.jpg\n"
     ]
    },
    {
     "name": "stdin",
     "output_type": "stream",
     "text": [
      "Is this image AI or Human ?(Enter 'AI' or 'Human'): ai\n"
     ]
    },
    {
     "name": "stdout",
     "output_type": "stream",
     "text": [
      "CORRECT👌\n",
      " \n",
      " Image name :cat_human.png\n"
     ]
    },
    {
     "name": "stdin",
     "output_type": "stream",
     "text": [
      "Is this image AI or Human ?(Enter 'AI' or 'Human'): ai\n"
     ]
    },
    {
     "name": "stdout",
     "output_type": "stream",
     "text": [
      "Wrong! The correct answer was Human.\n",
      " \n",
      " Image name :city_ai.png\n"
     ]
    },
    {
     "name": "stdin",
     "output_type": "stream",
     "text": [
      "Is this image AI or Human ?(Enter 'AI' or 'Human'): ai\n"
     ]
    },
    {
     "name": "stdout",
     "output_type": "stream",
     "text": [
      "CORRECT👌\n",
      " \n",
      " Image name :girl_face_human.png\n"
     ]
    },
    {
     "name": "stdin",
     "output_type": "stream",
     "text": [
      "Is this image AI or Human ?(Enter 'AI' or 'Human'): ai\n"
     ]
    },
    {
     "name": "stdout",
     "output_type": "stream",
     "text": [
      "Wrong! The correct answer was Human.\n",
      "❤️‍🔥Round 2: Is the Sentence AI or Human?\n",
      " \n",
      " Sentence:The cloud embraces the moon ,whispering ' you're mine '.\n"
     ]
    },
    {
     "name": "stdin",
     "output_type": "stream",
     "text": [
      "Is this sentence AI or Human ?(Enter 'AI' or 'Human'): ai\n"
     ]
    },
    {
     "name": "stdout",
     "output_type": "stream",
     "text": [
      "Wrong! The correct answer was Human.\n",
      " \n",
      " Sentence:Time paused , as if the world needed to buffer.\n"
     ]
    },
    {
     "name": "stdin",
     "output_type": "stream",
     "text": [
      "Is this sentence AI or Human ?(Enter 'AI' or 'Human'): ai\n"
     ]
    },
    {
     "name": "stdout",
     "output_type": "stream",
     "text": [
      "CORRECT👌\n",
      " \n",
      " Sentence:She smiled like she'd been broken before .\n"
     ]
    },
    {
     "name": "stdin",
     "output_type": "stream",
     "text": [
      "Is this sentence AI or Human ?(Enter 'AI' or 'Human'): human\n"
     ]
    },
    {
     "name": "stdout",
     "output_type": "stream",
     "text": [
      "CORRECT👌\n",
      " \n",
      " Sentence:I watched the stars blink -like data loading in the sky.\n"
     ]
    },
    {
     "name": "stdin",
     "output_type": "stream",
     "text": [
      "Is this sentence AI or Human ?(Enter 'AI' or 'Human'): ai\n"
     ]
    },
    {
     "name": "stdout",
     "output_type": "stream",
     "text": [
      "CORRECT👌\n",
      "\n",
      " FINAL SCORE : 5 out of 8\n",
      "👍 Good try! Keep practicing!\n"
     ]
    }
   ],
   "source": [
    "#setting data\n",
    "Image =[\n",
    "    {\"name\": \"Sunset_AI.jpg\" , \"source\":\"AI\" },\n",
    "    {\"name\": \"cat_human.png\", \"source\": \"Human\"},\n",
    "    {\"name\": \"city_ai.png\", \"source\": \"AI\"},\n",
    "    {\"name\": \"girl_face_human.png\", \"source\": \"Human\"},\n",
    "\n",
    "]\n",
    "\n",
    "Sentence = [\n",
    "    {\"text\": \"The cloud embraces the moon ,whispering ' you're mine '.\", \"source\": \"Human\"},\n",
    "    {\"text\": \"Time paused , as if the world needed to buffer.\", \"source\": \"AI\"},\n",
    "    {\"text\": \"She smiled like she'd been broken before .\", \"source\": \"Human\"},\n",
    "    {\"text\": \"I watched the stars blink -like data loading in the sky.\", \"source\": \"AI\"}\n",
    "\n",
    "]\n",
    "\n",
    "random.shuffle(Image)\n",
    "random.shuffle(Sentences)\n",
    "\n",
    "score = 0 \n",
    "\n",
    "#ROUND 1 :IMAGE GUESSING \n",
    "print (\"❤️‍🔥Round 1: Is the Image AI or Human?\")\n",
    "for item in Image :\n",
    "    print (f\" \\n Image name :{item['name']}\")\n",
    "    while True:\n",
    "        guess = input(\"Is this image AI or Human ?(Enter 'AI' or 'Human'):\").strip().lower()\n",
    "        if guess not in [\"human\" , \"ai\"]:\n",
    "            print(\"invalid answer ,please TRY AGAIN🙃\")\n",
    "        else:\n",
    "            break\n",
    "\n",
    "            \n",
    "    if guess ==item[\"source\"].lower():\n",
    "                print (\"CORRECT👌\")\n",
    "                score+=1\n",
    "    else:\n",
    "        print(f\"Wrong! The correct answer was {item['source']}.\")\n",
    "\n",
    "\n",
    "#ROUND 2 : SENTENCES GUESSING\n",
    "\n",
    "print (\"❤️‍🔥Round 2: Is the Sentence AI or Human?\")\n",
    "for item in Sentence :\n",
    "    print (f\" \\n Sentence:{item['text']}\")\n",
    "    while True:\n",
    "        guess = input(\"Is this sentence AI or Human ?(Enter 'AI' or 'Human'):\").strip().lower()\n",
    "        if guess not in [\"human\" , \"ai\"]:\n",
    "            print(\"invalid answer ,please TRY AGAIN🙃\")\n",
    "        else:\n",
    "            break\n",
    "\n",
    "            \n",
    "    if guess ==item[\"source\"].lower():\n",
    "                print (\"CORRECT👌\")\n",
    "                score+=1\n",
    "    else:\n",
    "        print(f\"Wrong! The correct answer was {item['source']}.\")\n",
    "\n",
    "#FINAL RESULT\n",
    "print(f\"\\n FINAL SCORE : {score} out of {len(Image) + len(Sentence)}\")\n",
    "\n",
    "if score >= 6:\n",
    "    print(\"😃 Excellent! You can detect AI vs Human!👌\")\n",
    "else:\n",
    "    print(\"👍 Good try! Keep practicing!\")\n",
    "\n"
   ]
  },
  {
   "cell_type": "code",
   "execution_count": null,
   "id": "1afeac17-685d-4fc6-a515-b2d3daa5e0b0",
   "metadata": {},
   "outputs": [],
   "source": []
  }
 ],
 "metadata": {
  "kernelspec": {
   "display_name": "Python [conda env:base] *",
   "language": "python",
   "name": "conda-base-py"
  },
  "language_info": {
   "codemirror_mode": {
    "name": "ipython",
    "version": 3
   },
   "file_extension": ".py",
   "mimetype": "text/x-python",
   "name": "python",
   "nbconvert_exporter": "python",
   "pygments_lexer": "ipython3",
   "version": "3.12.7"
  }
 },
 "nbformat": 4,
 "nbformat_minor": 5
}
